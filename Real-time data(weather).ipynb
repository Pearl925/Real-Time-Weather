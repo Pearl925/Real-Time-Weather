{
 "cells": [
  {
   "cell_type": "markdown",
   "id": "549b60eb-a1b9-433a-bf2b-e4bdc3554be6",
   "metadata": {},
   "source": [
    "Real-Time Data Integration Methods"
   ]
  },
  {
   "cell_type": "markdown",
   "id": "b839279b-919c-4c9b-9122-2196cb9a0a71",
   "metadata": {},
   "source": [
    "Example using Python to simulate real-time data collection and  visualization of the real-time data."
   ]
  },
  {
   "cell_type": "raw",
   "id": "61059a06-4db4-47ea-a0a1-515af81d6ebd",
   "metadata": {},
   "source": [
    "To simulate real-time data collection and visualize it in real time using Python, we can use the following approach:"
   ]
  },
  {
   "cell_type": "raw",
   "id": "a0c38410-e524-4bfc-9629-57b4121a431e",
   "metadata": {},
   "source": [
    "Simulating real-time data streaming: This can be done by periodically fetching data from an API (e.g., weather, stock prices) at regular intervals"
   ]
  },
  {
   "cell_type": "code",
   "execution_count": null,
   "id": "58a4e53e-c812-4fae-8ef7-d97b86e8dcc6",
   "metadata": {},
   "outputs": [
    {
     "data": {
      "image/png": "[encoded data removed]",
      "text/plain": [
       "<Figure size 800x600 with 1 Axes>"
      ]
     },
     "metadata": {},
     "output_type": "display_data"
    }
   ],
   "source": [
    "import requests\n",
    "import matplotlib.pyplot as plt\n",
    "import tkinter as tk\n",
    "from tkinter import messagebox\n",
    "from PIL import Image, ImageTk\n",
    "from io import BytesIO\n",
    "from datetime import datetime\n",
    "\n",
    "# Replace with your actual OpenWeatherMap API Key\n",
    "API_KEY = '266cb67c4e1d960e0fa37ffb34c72e88'  # Make sure to use your actual API key here\n",
    "\n",
    "# Function to fetch weather data\n",
    "def fetch_weather():\n",
    "    city_name = city_entry.get()  # Get the city name from the input field\n",
    "    if not city_name:\n",
    "        messagebox.showwarning(\"Input Error\", \"Please enter a city name.\")\n",
    "        return\n",
    "    # URL to fetch the current weather\n",
    "    URL = f'http://api.openweathermap.org/data/2.5/weather?q={city_name}&appid={API_KEY}&units=metric'\n",
    "    # Send GET request to the OpenWeatherMap API\n",
    "    response = requests.get(URL)\n",
    "    # Check if the request was successful (status code 200)\n",
    "    if response.status_code == 200:\n",
    "        data = response.json()\n",
    "        if 'name' in data:\n",
    "            city_name = data['name']\n",
    "            temperature = data['main']['temp']\n",
    "            weather_description = data['weather'][0]['description']\n",
    "            humidity = data['main']['humidity']\n",
    "            pressure = data['main']['pressure']\n",
    "            wind_speed = data['wind']['speed']\n",
    "            icon_code = data['weather'][0]['icon']  # Weather icon code\n",
    "            # URL to fetch the weather icon\n",
    "            icon_url = f'http://openweathermap.org/img/wn/{icon_code}.png'\n",
    "            # Fetch the icon image\n",
    "            icon_response = requests.get(icon_url)\n",
    "            icon_image = Image.open(BytesIO(icon_response.content))\n",
    "            icon_image = icon_image.resize((50, 50))  # Resize icon\n",
    "            icon_photo = ImageTk.PhotoImage(icon_image)\n",
    "            # Display the weather information in the label\n",
    "            result_label.config(text=f\"Weather in {city_name}:\\n\"\n",
    "                                    f\"Temperature: {temperature}°C\\n\"\n",
    "                                    f\"Description: {weather_description}\\n\"\n",
    "                                    f\"Humidity: {humidity}%\\n\"\n",
    "                                    f\"Pressure: {pressure} hPa\\n\"\n",
    "                                    f\"Wind Speed: {wind_speed} m/s\\n\"\n",
    "                                    f\"Last Updated: {datetime.now().strftime('%Y-%m-%d %H:%M:%S')}\")\n",
    "            # Display the weather icon\n",
    "            icon_label.config(image=icon_photo)\n",
    "            icon_label.image = icon_photo  # Keep a reference to avoid garbage collection\n",
    "\n",
    "            # Create a bar chart for the weather data\n",
    "            labels = ['Temperature (°C)', 'Humidity (%)', 'Pressure (hPa)', 'Wind Speed (m/s)']\n",
    "            values = [temperature, humidity, pressure, wind_speed]\n",
    "\n",
    "            plt.figure(figsize=(8, 6))\n",
    "            plt.bar(labels, values, color=['blue', 'green', 'red', 'purple'])\n",
    "            plt.title(f\"Weather in {city_name}\")\n",
    "            plt.xlabel(\"Weather Parameter\")\n",
    "            plt.ylabel(\"Value\")\n",
    "            plt.show()\n",
    "        else:\n",
    "            messagebox.showerror(\"Error\", \"Could not retrieve weather data. Please try again.\")\n",
    "    else:\n",
    "        messagebox.showerror(\"Error\", f\"Failed to fetch data. Status Code: {response.status_code}\")\n",
    "\n",
    "    # Schedule the function to fetch weather every 60 seconds\n",
    "    root.after(60000, fetch_weather)\n",
    "\n",
    "# Create the main window\n",
    "root = tk.Tk()\n",
    "root.title(\"Weather App\")\n",
    "\n",
    "# Create and place the city input label and text entry\n",
    "city_label = tk.Label(root, text=\"Enter City Name:\")\n",
    "city_label.pack(pady=10)\n",
    "\n",
    "city_entry = tk.Entry(root, width=30)\n",
    "city_entry.pack(pady=10)\n",
    "\n",
    "# Create and place the button to fetch weather\n",
    "fetch_button = tk.Button(root, text=\"Get Weather\", command=fetch_weather)\n",
    "fetch_button.pack(pady=10)\n",
    "\n",
    "# Create a label to display weather results\n",
    "result_label = tk.Label(root, text=\"\", justify=\"left\")\n",
    "result_label.pack(pady=10)\n",
    "\n",
    "# Create a label to display the weather icon\n",
    "icon_label = tk.Label(root)\n",
    "icon_label.pack(pady=10)\n",
    "\n",
    "# Start the Tkinter event loop\n",
    "root.mainloop()\n"
   ]
  },
  {
   "cell_type": "code",
   "execution_count": null,
   "id": "a2796887-2f9d-48f7-9356-cf2d18528d29",
   "metadata": {},
   "outputs": [],
   "source": []
  }
 ],
 "metadata": {
  "kernelspec": {
   "display_name": "Python 3 (ipykernel)",
   "language": "python",
   "name": "python3"
  },
  "language_info": {
   "codemirror_mode": {
    "name": "ipython",
    "version": 3
   },
   "file_extension": ".py",
   "mimetype": "text/x-python",
   "name": "python",
   "nbconvert_exporter": "python",
   "pygments_lexer": "ipython3",
   "version": "3.12.4"
  }
 },
 "nbformat": 4,
 "nbformat_minor": 5
}
